{
 "cells": [
  {
   "cell_type": "code",
   "execution_count": 1,
   "metadata": {
    "collapsed": false
   },
   "outputs": [],
   "source": [
    "import pandas as pd\n",
    "from lxml import html\n",
    "import requests"
   ]
  },
  {
   "cell_type": "code",
   "execution_count": 2,
   "metadata": {
    "collapsed": false
   },
   "outputs": [],
   "source": [
    "from bs4 import BeautifulSoup\n",
    "import urllib3\n",
    "import requests\n",
    "from lxml import html\n",
    "\n",
    "\n",
    "def get_website():\n",
    "    url = 'http://rosettacode.org/wiki/Copy_a_string'\n",
    "    res = requests.get(url)\n",
    "    res.raise_for_status()\n",
    "    soup = BeautifulSoup(res.content, 'lxml')\n",
    "    return soup\n",
    "\n",
    "\n",
    "def get_links():\n",
    "    prefix = 'http://rosettacode.org'\n",
    "    find_link = soup.select('td')\n",
    "    return [prefix + line.a[\"href\"] for line in find_link]\n",
    "\n",
    "        \n",
    "def get_title(soup):\n",
    "    titles = []\n",
    "    posts = soup.select(\"h2 > span\")\n",
    "    for post in posts:\n",
    "        if post.text != \"[edit]\":\n",
    "            titles.append(post.text)\n",
    "    return titles"
   ]
  },
  {
   "cell_type": "code",
   "execution_count": 3,
   "metadata": {
    "collapsed": false
   },
   "outputs": [],
   "source": [
    "def get_code_examples(soup, languages):\n",
    "    language_list = dict((x, []) for x in languages)\n",
    "    lines = soup.select('pre')\n",
    "    for line in lines:\n",
    "        if line.has_attr(\"class\"):\n",
    "            for key, value in language_list.items():\n",
    "                if line['class'][0] == key.lower():\n",
    "                    language_list[key].append(line.text)\n",
    "    return language_list"
   ]
  },
  {
   "cell_type": "code",
   "execution_count": 4,
   "metadata": {
    "collapsed": false
   },
   "outputs": [],
   "source": [
    "soupy = get_website()"
   ]
  },
  {
   "cell_type": "code",
   "execution_count": 5,
   "metadata": {
    "collapsed": false
   },
   "outputs": [],
   "source": [
    "langy = get_title(soupy)"
   ]
  },
  {
   "cell_type": "code",
   "execution_count": 6,
   "metadata": {
    "collapsed": false
   },
   "outputs": [],
   "source": [
    "dic = get_code_examples(soupy,langy)"
   ]
  },
  {
   "cell_type": "code",
   "execution_count": 7,
   "metadata": {
    "collapsed": false
   },
   "outputs": [],
   "source": [
    "df = pd.DataFrame(list(dic.items()))"
   ]
  },
  {
   "cell_type": "code",
   "execution_count": 9,
   "metadata": {
    "collapsed": false
   },
   "outputs": [
    {
     "data": {
      "text/html": [
       "<div>\n",
       "<table border=\"1\" class=\"dataframe\">\n",
       "  <thead>\n",
       "    <tr style=\"text-align: right;\">\n",
       "      <th></th>\n",
       "      <th>0</th>\n",
       "      <th>1</th>\n",
       "    </tr>\n",
       "  </thead>\n",
       "  <tbody>\n",
       "    <tr>\n",
       "      <th>0</th>\n",
       "      <td>Liberty BASIC</td>\n",
       "      <td>[]</td>\n",
       "    </tr>\n",
       "    <tr>\n",
       "      <th>1</th>\n",
       "      <td>Aime</td>\n",
       "      <td>[]</td>\n",
       "    </tr>\n",
       "    <tr>\n",
       "      <th>2</th>\n",
       "      <td>NewLISP</td>\n",
       "      <td>[(define (assert f msg) (if (not f) (println m...</td>\n",
       "    </tr>\n",
       "    <tr>\n",
       "      <th>3</th>\n",
       "      <td>Delphi</td>\n",
       "      <td>[program CopyString; {$APPTYPE CONSOLE} var  s...</td>\n",
       "    </tr>\n",
       "    <tr>\n",
       "      <th>4</th>\n",
       "      <td>AutoHotkey</td>\n",
       "      <td>[src := \"Hello\"dst := src]</td>\n",
       "    </tr>\n",
       "  </tbody>\n",
       "</table>\n",
       "</div>"
      ],
      "text/plain": [
       "               0                                                  1\n",
       "0  Liberty BASIC                                                 []\n",
       "1           Aime                                                 []\n",
       "2        NewLISP  [(define (assert f msg) (if (not f) (println m...\n",
       "3         Delphi  [program CopyString; {$APPTYPE CONSOLE} var  s...\n",
       "4     AutoHotkey                         [src := \"Hello\"dst := src]"
      ]
     },
     "execution_count": 9,
     "metadata": {},
     "output_type": "execute_result"
    }
   ],
   "source": [
    "df.head()"
   ]
  },
  {
   "cell_type": "code",
   "execution_count": null,
   "metadata": {
    "collapsed": true
   },
   "outputs": [],
   "source": []
  },
  {
   "cell_type": "code",
   "execution_count": null,
   "metadata": {
    "collapsed": true
   },
   "outputs": [],
   "source": []
  },
  {
   "cell_type": "code",
   "execution_count": null,
   "metadata": {
    "collapsed": true
   },
   "outputs": [],
   "source": []
  },
  {
   "cell_type": "code",
   "execution_count": null,
   "metadata": {
    "collapsed": true
   },
   "outputs": [],
   "source": []
  },
  {
   "cell_type": "code",
   "execution_count": null,
   "metadata": {
    "collapsed": true
   },
   "outputs": [],
   "source": []
  },
  {
   "cell_type": "code",
   "execution_count": null,
   "metadata": {
    "collapsed": true
   },
   "outputs": [],
   "source": []
  },
  {
   "cell_type": "code",
   "execution_count": null,
   "metadata": {
    "collapsed": true
   },
   "outputs": [],
   "source": []
  },
  {
   "cell_type": "code",
   "execution_count": 11,
   "metadata": {
    "collapsed": false
   },
   "outputs": [
    {
     "ename": "SyntaxError",
     "evalue": "invalid syntax (<ipython-input-11-f939bf4bbb85>, line 8)",
     "output_type": "error",
     "traceback": [
      "\u001b[0;36m  File \u001b[0;32m\"<ipython-input-11-f939bf4bbb85>\"\u001b[0;36m, line \u001b[0;32m8\u001b[0m\n\u001b[0;31m    code.split(/[^a-z]/).reject{|w| w.empty?}\u001b[0m\n\u001b[0m               ^\u001b[0m\n\u001b[0;31mSyntaxError\u001b[0m\u001b[0;31m:\u001b[0m invalid syntax\n"
     ]
    }
   ],
   "source": [
    "class Classifier():\n",
    "    def initialize():\n",
    "        data = {}\n",
    "        totals = Hash.new(1)\n",
    "    \n",
    "    \n",
    "    def words(code):\n",
    "        code.split(/[^a-z]/).reject{|w| w.empty?}\n",
    "    \n",
    "    \n",
    "    def train(code,lang):\n",
    "        totals[lang] += 1\n",
    "        data[lang] ||= Hash.new(1)\n",
    "        words(code).each {|w| @data[lang][w] += 1 }\n",
    "        \n",
    "    def classify(code):\n",
    "        ws = words(code)\n",
    "        data.keys.max_by do |lang|\n",
    "      # We really want to multiply here but I use logs \n",
    "      # to avoid floating point underflow\n",
    "      # (adding logs is equivalent to multiplication)\n",
    "    Math.log(@totals[lang]) + ws.map{|w| Math.log(@data[lang][w])}.reduce(:+)\n",
    "\n",
    "\n",
    "# Example usage\n",
    "\n",
    "c = Classifier\n",
    "\n",
    "# Train from files\n",
    "c.train(open(\"code.rb\").read, :ruby)\n",
    "c.train(open(\"code.py\").read, :python)\n",
    "c.train(open(\"code.cs\").read, :csharp)\n",
    "\n",
    "# Test it on another file\n",
    "c.classify(open(\"code2.py\").read) # => :python (hopefully)"
   ]
  }
 ],
 "metadata": {
  "kernelspec": {
   "display_name": "Python 3",
   "language": "python",
   "name": "python3"
  },
  "language_info": {
   "codemirror_mode": {
    "name": "ipython",
    "version": 3
   },
   "file_extension": ".py",
   "mimetype": "text/x-python",
   "name": "python",
   "nbconvert_exporter": "python",
   "pygments_lexer": "ipython3",
   "version": "3.5.1"
  }
 },
 "nbformat": 4,
 "nbformat_minor": 0
}
