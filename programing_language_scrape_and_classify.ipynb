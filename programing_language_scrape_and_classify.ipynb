{
 "cells": [
  {
   "cell_type": "markdown",
   "metadata": {},
   "source": [
    "# Importing, need beautifulsoup urllib(v3) requests and lxml's html"
   ]
  },
  {
   "cell_type": "code",
   "execution_count": 1,
   "metadata": {
    "collapsed": false
   },
   "outputs": [],
   "source": [
    "from bs4 import BeautifulSoup\n",
    "import urllib3\n",
    "import requests\n",
    "from lxml import html"
   ]
  },
  {
   "cell_type": "markdown",
   "metadata": {},
   "source": [
    "### get_website() makes a call to the website, and instantiates a beautiful soup object"
   ]
  },
  {
   "cell_type": "code",
   "execution_count": 2,
   "metadata": {
    "collapsed": false
   },
   "outputs": [],
   "source": [
    "def get_website():\n",
    "    url = 'http://rosettacode.org/wiki/Copy_a_string'\n",
    "    res = requests.get(url)\n",
    "    res.raise_for_status()\n",
    "    soup = BeautifulSoup(res.content, 'lxml')\n",
    "    return soup"
   ]
  },
  {
   "cell_type": "markdown",
   "metadata": {},
   "source": [
    "### get_links() searches the html on the website and returns objects from the websites code"
   ]
  },
  {
   "cell_type": "code",
   "execution_count": null,
   "metadata": {
    "collapsed": true
   },
   "outputs": [],
   "source": [
    "def get_links():\n",
    "    prefix = 'http://rosettacode.org'\n",
    "    find_link = soup.select('td')\n",
    "    return [prefix + line.a[\"href\"] for line in find_link]"
   ]
  },
  {
   "cell_type": "markdown",
   "metadata": {},
   "source": [
    "### get_title() uses the beautiful soup object from get_website() and adds anything formated in header2 to the list titles"
   ]
  },
  {
   "cell_type": "code",
   "execution_count": null,
   "metadata": {
    "collapsed": true
   },
   "outputs": [],
   "source": [
    "def get_title(soup):\n",
    "    titles = []\n",
    "    posts = soup.select(\"h2 > span\")\n",
    "    for post in posts:\n",
    "        if post.text != \"[edit]\":\n",
    "            titles.append(post.text)\n",
    "    return titles"
   ]
  },
  {
   "cell_type": "markdown",
   "metadata": {},
   "source": [
    "### get_code_examples() takes the website and any titles and creates a dictionary with titles as the key and anything found in the html class for that title as the value"
   ]
  },
  {
   "cell_type": "code",
   "execution_count": 3,
   "metadata": {
    "collapsed": false
   },
   "outputs": [],
   "source": [
    "def get_code_examples(soup, languages):\n",
    "    language_list = dict((x, []) for x in languages)\n",
    "    lines = soup.select('pre')\n",
    "    for line in lines:\n",
    "        if line.has_attr(\"class\"):\n",
    "            for key, value in language_list.items():\n",
    "                if line['class'][0] == key.lower():\n",
    "                    language_list[key].append(line.text)\n",
    "    return language_list"
   ]
  },
  {
   "cell_type": "markdown",
   "metadata": {},
   "source": [
    "### when it's all put together it looks something like this and I've thrown it all into a dataframe to be processed by a clasifyer"
   ]
  },
  {
   "cell_type": "code",
   "execution_count": 4,
   "metadata": {
    "collapsed": false
   },
   "outputs": [],
   "source": [
    "soupy = get_website()"
   ]
  },
  {
   "cell_type": "code",
   "execution_count": 5,
   "metadata": {
    "collapsed": false
   },
   "outputs": [],
   "source": [
    "langy = get_title(soupy)"
   ]
  },
  {
   "cell_type": "code",
   "execution_count": 6,
   "metadata": {
    "collapsed": false
   },
   "outputs": [],
   "source": [
    "dic = get_code_examples(soupy,langy)"
   ]
  },
  {
   "cell_type": "code",
   "execution_count": 7,
   "metadata": {
    "collapsed": false
   },
   "outputs": [],
   "source": [
    "df = pd.DataFrame(list(dic.items()))"
   ]
  },
  {
   "cell_type": "code",
   "execution_count": 8,
   "metadata": {
    "collapsed": false
   },
   "outputs": [
    {
     "data": {
      "text/html": [
       "<div>\n",
       "<table border=\"1\" class=\"dataframe\">\n",
       "  <thead>\n",
       "    <tr style=\"text-align: right;\">\n",
       "      <th></th>\n",
       "      <th>0</th>\n",
       "      <th>1</th>\n",
       "    </tr>\n",
       "  </thead>\n",
       "  <tbody>\n",
       "    <tr>\n",
       "      <th>0</th>\n",
       "      <td>Shiny</td>\n",
       "      <td>[]</td>\n",
       "    </tr>\n",
       "    <tr>\n",
       "      <th>1</th>\n",
       "      <td>Neko</td>\n",
       "      <td>[]</td>\n",
       "    </tr>\n",
       "    <tr>\n",
       "      <th>2</th>\n",
       "      <td>Clojure</td>\n",
       "      <td>[(let [s \"hello\"      s1 s]  (println s s1))]</td>\n",
       "    </tr>\n",
       "    <tr>\n",
       "      <th>3</th>\n",
       "      <td>AWK</td>\n",
       "      <td>[BEGIN {  a = \"a string\"  b = a  sub(/a/, \"X\",...</td>\n",
       "    </tr>\n",
       "    <tr>\n",
       "      <th>4</th>\n",
       "      <td>NetRexx</td>\n",
       "      <td>[/* NetRexx */options replace format comments ...</td>\n",
       "    </tr>\n",
       "  </tbody>\n",
       "</table>\n",
       "</div>"
      ],
      "text/plain": [
       "         0                                                  1\n",
       "0    Shiny                                                 []\n",
       "1     Neko                                                 []\n",
       "2  Clojure      [(let [s \"hello\"      s1 s]  (println s s1))]\n",
       "3      AWK  [BEGIN {  a = \"a string\"  b = a  sub(/a/, \"X\",...\n",
       "4  NetRexx  [/* NetRexx */options replace format comments ..."
      ]
     },
     "execution_count": 8,
     "metadata": {},
     "output_type": "execute_result"
    }
   ],
   "source": [
    "df.head()"
   ]
  },
  {
   "cell_type": "code",
   "execution_count": null,
   "metadata": {
    "collapsed": true
   },
   "outputs": [],
   "source": []
  },
  {
   "cell_type": "code",
   "execution_count": null,
   "metadata": {
    "collapsed": true
   },
   "outputs": [],
   "source": []
  },
  {
   "cell_type": "code",
   "execution_count": null,
   "metadata": {
    "collapsed": true
   },
   "outputs": [],
   "source": []
  },
  {
   "cell_type": "code",
   "execution_count": null,
   "metadata": {
    "collapsed": true
   },
   "outputs": [],
   "source": []
  },
  {
   "cell_type": "code",
   "execution_count": null,
   "metadata": {
    "collapsed": true
   },
   "outputs": [],
   "source": []
  },
  {
   "cell_type": "code",
   "execution_count": null,
   "metadata": {
    "collapsed": true
   },
   "outputs": [],
   "source": []
  },
  {
   "cell_type": "markdown",
   "metadata": {
    "collapsed": true
   },
   "source": [
    "## this is a classifyer that I need to figure out before I can report on findings"
   ]
  },
  {
   "cell_type": "code",
   "execution_count": 10,
   "metadata": {
    "collapsed": false
   },
   "outputs": [],
   "source": [
    "import math\n",
    "\n",
    "class LangClassifier():\n",
    "    \"\"\"\n",
    "    Inspired by http://stackoverflow.com/questions/475033/detecting-programming-language-from-a-snippet\n",
    "    \"\"\"\n",
    "    def __init__(self):\n",
    "        self.data = {}\n",
    "        self.totals = {}\n",
    "\n",
    "    def words(self, code):\n",
    "        word_list = code.split()\n",
    "        return filter(bool, word_list)\n",
    "\n",
    "    def train(self, code, lang):\n",
    "        # Trains the classifier\n",
    "        self.data[lang] = {}\n",
    "        for word in self.words(code):\n",
    "            if word in self.data[lang]:\n",
    "                self.data[lang][word] += 1\n",
    "            else:\n",
    "                self.data[lang][word] = 1\n",
    "            if word in self.totals:\n",
    "                self.totals[word] += 1\n",
    "            else:\n",
    "                self.totals[word] = 1\n",
    "    \n",
    "    def prob(self, words, lang):\n",
    "        # Calculates the probability\n",
    "        res = 0.0\n",
    "        for word in words:\n",
    "            try:\n",
    "                res = res + math.log(self.totals[word]/self.data[lang][word])\n",
    "            except(KeyError):\n",
    "                continue\n",
    "        return res\n",
    "    \n",
    "    def classify(self, code):\n",
    "        # Classifies the input code\n",
    "        lang_prob = {}\n",
    "        words = self.words(code)\n",
    "        for lang in self.data.iterkeys():\n",
    "            prob = self.prob(words, lang)\n",
    "            lang_prob[prob] = lang\n",
    "        return \"Input file is most likely: \" + lang_prob[min(lang_prob.keys())]"
   ]
  },
  {
   "cell_type": "code",
   "execution_count": 18,
   "metadata": {
    "collapsed": false
   },
   "outputs": [
    {
     "ename": "TypeError",
     "evalue": "__init__() takes 1 positional argument but 2 were given",
     "output_type": "error",
     "traceback": [
      "\u001b[0;31m---------------------------------------------------------------------------\u001b[0m",
      "\u001b[0;31mTypeError\u001b[0m                                 Traceback (most recent call last)",
      "\u001b[0;32m<ipython-input-18-66362f05d6dc>\u001b[0m in \u001b[0;36m<module>\u001b[0;34m()\u001b[0m\n\u001b[0;32m----> 1\u001b[0;31m \u001b[0mLangClassifier\u001b[0m\u001b[0;34m(\u001b[0m\u001b[0mdf\u001b[0m\u001b[0;34m)\u001b[0m\u001b[0;34m\u001b[0m\u001b[0m\n\u001b[0m\u001b[1;32m      2\u001b[0m \u001b[0;34m\u001b[0m\u001b[0m\n\u001b[1;32m      3\u001b[0m \u001b[0;32mfor\u001b[0m \u001b[0mrow\u001b[0m \u001b[0;32min\u001b[0m \u001b[0mdf\u001b[0m\u001b[0;34m:\u001b[0m\u001b[0;34m\u001b[0m\u001b[0m\n\u001b[1;32m      4\u001b[0m     \u001b[0mLangClassifier\u001b[0m\u001b[0;34m.\u001b[0m\u001b[0mclassify\u001b[0m\u001b[0;34m(\u001b[0m\u001b[0mLangClassifier\u001b[0m\u001b[0;34m,\u001b[0m \u001b[0mdic\u001b[0m\u001b[0;34m)\u001b[0m\u001b[0;34m\u001b[0m\u001b[0m\n",
      "\u001b[0;31mTypeError\u001b[0m: __init__() takes 1 positional argument but 2 were given"
     ]
    }
   ],
   "source": [
    "LangClassifier(df)\n",
    "\n",
    "for row in df:\n",
    "    LangClassifier.classify(LangClassifier, dic)"
   ]
  },
  {
   "cell_type": "code",
   "execution_count": null,
   "metadata": {
    "collapsed": true
   },
   "outputs": [],
   "source": []
  }
 ],
 "metadata": {
  "kernelspec": {
   "display_name": "Python 3",
   "language": "python",
   "name": "python3"
  },
  "language_info": {
   "codemirror_mode": {
    "name": "ipython",
    "version": 3
   },
   "file_extension": ".py",
   "mimetype": "text/x-python",
   "name": "python",
   "nbconvert_exporter": "python",
   "pygments_lexer": "ipython3",
   "version": "3.5.1"
  }
 },
 "nbformat": 4,
 "nbformat_minor": 0
}
